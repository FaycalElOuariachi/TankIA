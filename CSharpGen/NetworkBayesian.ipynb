{
 "metadata": {
  "name": "",
  "signature": "sha256:220d28ac02dd481b52063967e84ca89408863b8c6877bd96fb37d326e8f049e0"
 },
 "nbformat": 3,
 "nbformat_minor": 0,
 "worksheets": [
  {
   "cells": [
    {
     "cell_type": "code",
     "collapsed": false,
     "input": [
      "import os\n",
      "from os.path import basename\n",
      "import pyAgrum as gum\n",
      "import pyAgrum.lib.notebook as gnb\n",
      "\n",
      "def concatenateFiles():\n",
      "        #Allpaths\n",
      "        path = 'logs/Log/WholeLog.csv'\n",
      "        pathAllFiles = 'logs'\n",
      "        if not os.path.exists(path):\n",
      "            found = False\n",
      "        else:\n",
      "            found = True\n",
      "            \n",
      "\n",
      "        #BigFile est le fichier qui aura tous les logs\n",
      "       \n",
      "        BigFile = open(path, 'a')\n",
      "            \n",
      "       \n",
      "        \n",
      "        OneDone = False\n",
      "        for file in os.listdir(pathAllFiles):\n",
      "            if basename(file)!=\"Log\" and os.path.splitext(file)[1]!=\".meta\":\n",
      "                for file1 in os.listdir(pathAllFiles+\"/\"+file):\n",
      "                    fileNameAndExtension = os.path.splitext(file1)\n",
      "                    newPath = pathAllFiles+\"/\"+file+\"/\"\n",
      "                    #test du nom de l'extension\n",
      "                    if fileNameAndExtension[1]==\".csv\":\n",
      "                        f = open(newPath+file1,'r')\n",
      "                        if found==False and OneDone==False:\n",
      "                            OneDone=True\n",
      "                            lines = f.readlines()\n",
      "                        else:\n",
      "                            lines = f.readlines()[1:]\n",
      "                        BigFile.writelines(lines)\n",
      "        BigFile.close()\n",
      "                            \n",
      "        \n",
      "\n",
      "        \n",
      "def createBayesianNetwork():\n",
      "    learner=gum.BNLearner(\"logs/Log/WholeLog.csv\")\n",
      "    learner.useK2([0,1,2,3,4,5,6,7,8])\n",
      "    bn2=learner.learnBN()\n",
      "    print(\"Learned in {0}s\".format(learner.currentTime()))\n",
      "    gnb.showBN(bn2)\n",
      "    \n",
      "   \n",
      " \n",
      "#concatenateFiles()\n",
      "createBayesianNetwork()"
     ],
     "language": "python",
     "metadata": {},
     "outputs": []
    },
    {
     "cell_type": "code",
     "collapsed": false,
     "input": [],
     "language": "python",
     "metadata": {},
     "outputs": [],
     "prompt_number": 23
    },
    {
     "cell_type": "code",
     "collapsed": false,
     "input": [],
     "language": "python",
     "metadata": {},
     "outputs": []
    }
   ],
   "metadata": {}
  }
 ]
}